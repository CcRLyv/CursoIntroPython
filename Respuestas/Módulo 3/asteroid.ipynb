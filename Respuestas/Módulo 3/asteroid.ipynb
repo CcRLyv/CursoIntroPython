{
 "cells": [
  {
   "cell_type": "markdown",
   "metadata": {},
   "source": [
    "# Asteroides camino a la tierra\n",
    "## Problema 1:"
   ]
  },
  {
   "cell_type": "code",
   "execution_count": 1,
   "metadata": {},
   "outputs": [
    {
     "name": "stdout",
     "output_type": "stream",
     "text": [
      "WARNING! An asteroid is coming to Eart fast\n"
     ]
    }
   ],
   "source": [
    "# Añadir el código necesario para crear una variable que guarde la velocidad del asteroide (49 km/s).\n",
    "# Escribe una expresión de prueba para calcular si necesita una advertencia.\n",
    "# Agregue las instrucciones que se ejecutarán si la expresión de prueba es true o false.\n",
    "\n",
    "asteroid_speed= 40\n",
    "if asteroid_speed > 25:\n",
    "    print(\"WARNING! An asteroid is coming to Eart fast\")\n",
    "else:\n",
    "    print(\"Have a nice day!\")"
   ]
  },
  {
   "cell_type": "markdown",
   "metadata": {},
   "source": [
    "## Problema 2:"
   ]
  },
  {
   "cell_type": "code",
   "execution_count": 2,
   "metadata": {},
   "outputs": [
    {
     "name": "stdout",
     "output_type": "stream",
     "text": [
      "There's something in the sky?\n"
     ]
    }
   ],
   "source": [
    "# Agrega el código para crear una variable para un asteroide que viaja a 19 km/s\n",
    "# Escribe varias expresiones de prueba para determinar si puedes ver el rayo de luz desde la tierra\n",
    "# Agrega las instrucciones que se ejecutarán si las expresiones de prueba son True o False\n",
    "\n",
    "asteroid_speed= 19\n",
    "if asteroid_speed > 20:\n",
    "    print(\"ADVICE! Look up the sky\")\n",
    "elif asteroid_speed > 15:\n",
    "    print(\"There's something in the sky?\")\n",
    "else:\n",
    "    print(\"Have a nice day!\")"
   ]
  },
  {
   "cell_type": "markdown",
   "metadata": {},
   "source": [
    "## Problema 3:"
   ]
  },
  {
   "cell_type": "code",
   "execution_count": 4,
   "metadata": {},
   "outputs": [
    {
     "name": "stdout",
     "output_type": "stream",
     "text": [
      "Have a nice day!\n"
     ]
    }
   ],
   "source": [
    "# Agrega el código para crear nuevas variables para la velocidad y el tamaño del asteroide\n",
    "# Para probar el código, prueba con varias velocidades y tamaños\n",
    "# Escribe varias expresiones de prueba o combinaciones de expresiones de prueba para determinar qué mensaje se debe enviar a Tierra.\n",
    "\n",
    "asteroid_speed= 14\n",
    "asteroid_weight= 19\n",
    "if asteroid_speed > 25 and asteroid_weight > 30:\n",
    "    print(\"WARNING! An asteroid is coming to Eart fast\")\n",
    "elif asteroid_speed > 19 and asteroid_weight >= 20:\n",
    "    print(\"ADVICE! Look up the sky\")\n",
    "elif asteroid_speed > 15 and asteroid_weight < 20:\n",
    "    print(\"There's something in the sky?\")\n",
    "else:\n",
    "    print(\"Have a nice day!\")"
   ]
  }
 ],
 "metadata": {
  "interpreter": {
   "hash": "211f1d0ec0f8dd937ab5d4b263edcf5957d4b88f15d1be2f40e698f3c3f2739e"
  },
  "kernelspec": {
   "display_name": "Python 3.10.2 64-bit",
   "language": "python",
   "name": "python3"
  },
  "language_info": {
   "codemirror_mode": {
    "name": "ipython",
    "version": 3
   },
   "file_extension": ".py",
   "mimetype": "text/x-python",
   "name": "python",
   "nbconvert_exporter": "python",
   "pygments_lexer": "ipython3",
   "version": "3.10.2"
  },
  "orig_nbformat": 4
 },
 "nbformat": 4,
 "nbformat_minor": 2
}
