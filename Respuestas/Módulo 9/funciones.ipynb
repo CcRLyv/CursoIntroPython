{
 "cells": [
  {
   "cell_type": "markdown",
   "metadata": {},
   "source": [
    "# Funciones\n",
    "## Ejercicio 1"
   ]
  },
  {
   "cell_type": "code",
   "execution_count": 1,
   "metadata": {},
   "outputs": [],
   "source": [
    "# Función para leer 3 tanques de combustible y muestre el promedio\n",
    "\n",
    "def generateReport(primaryTank, secondaryTank, tertiaryTank):\n",
    "    totalAverage = (primaryTank + secondaryTank + tertiaryTank) / 3\n",
    "    return f\"\"\"Reporte de combustible:\n",
    "    Promedio total: {totalAverage}%\n",
    "    Tanque primario: {primaryTank}%\n",
    "    Tanque secundario: {secondaryTank}%\n",
    "    Tanque terciario: {tertiaryTank}% \n",
    "    \"\"\""
   ]
  },
  {
   "cell_type": "code",
   "execution_count": 2,
   "metadata": {},
   "outputs": [
    {
     "name": "stdout",
     "output_type": "stream",
     "text": [
      "Reporte de combustible:\n",
      "    Promedio total: 78.33333333333333%\n",
      "    Tanque primario: 80%\n",
      "    Tanque secundario: 70%\n",
      "    Tanque terciario: 85% \n",
      "    \n"
     ]
    }
   ],
   "source": [
    "# Llamamos a la función que genera el reporte print(funcion(tanque1, tanque2, tanque3))\n",
    "print(generateReport(80, 70, 85))"
   ]
  },
  {
   "cell_type": "code",
   "execution_count": 3,
   "metadata": {},
   "outputs": [
    {
     "data": {
      "text/plain": [
       "82.0"
      ]
     },
     "execution_count": 3,
     "metadata": {},
     "output_type": "execute_result"
    }
   ],
   "source": [
    "# Función promedio \n",
    "def average(values):\n",
    "    total = sum(values)\n",
    "    length = len(values)\n",
    "    return total / length\n",
    "\n",
    "# Test the averaging function with a list of integers:\n",
    "average([80, 85, 81]) "
   ]
  },
  {
   "cell_type": "code",
   "execution_count": 4,
   "metadata": {},
   "outputs": [
    {
     "name": "stdout",
     "output_type": "stream",
     "text": [
      "Reporte de combustible:\n",
      "    Promedio total: 78.0%\n",
      "    Tanque primario: 88%\n",
      "    Tanque secundario: 76%\n",
      "    Tanque terciario: 70% \n",
      "    \n"
     ]
    }
   ],
   "source": [
    "# Actualiza la función\n",
    "def generateReport(primaryTank, secondaryTank, tertiaryTank):\n",
    "    return f\"\"\"Reporte de combustible:\n",
    "    Promedio total: {average([primaryTank, secondaryTank, tertiaryTank])}%\n",
    "    Tanque primario: {primaryTank}%\n",
    "    Tanque secundario: {secondaryTank}%\n",
    "    Tanque terciario: {tertiaryTank}% \n",
    "    \"\"\"\n",
    "\n",
    "# Call the updated function again with different values\n",
    "print(generateReport(88, 76, 70))"
   ]
  },
  {
   "cell_type": "markdown",
   "metadata": {},
   "source": [
    "## Ejercicio 2"
   ]
  },
  {
   "cell_type": "code",
   "execution_count": 5,
   "metadata": {},
   "outputs": [
    {
     "name": "stdout",
     "output_type": "stream",
     "text": [
      "\n",
      "    Misión a Moon\n",
      "    Tiempo total de vuelo: 65 minutos\n",
      "    Total de combustible restante: 500000 galones\n",
      "    \n"
     ]
    }
   ],
   "source": [
    "# Función con un informe preciso de la misión. Considera hora de prelanzamiento, tiempo de vuelo, destino, tanque externo y tanque interno\n",
    "\n",
    "def missionReport(preLaunch, flightTime, destination, secondaryTank, primaryTank):\n",
    "    return f\"\"\"\n",
    "    Misión a {destination}\n",
    "    Tiempo total de vuelo: {preLaunch + flightTime} minutos\n",
    "    Total de combustible restante: {secondaryTank + primaryTank} galones\n",
    "    \"\"\"\n",
    "\n",
    "print(missionReport(14, 51, \"Moon\", 200000, 300000))"
   ]
  },
  {
   "cell_type": "code",
   "execution_count": 6,
   "metadata": {},
   "outputs": [
    {
     "name": "stdout",
     "output_type": "stream",
     "text": [
      "\n",
      "    Misión a Moon\n",
      "    Tiempo total de viaje: 76 minutos\n",
      "    Total de combustible restante: 500000\n",
      "    \n"
     ]
    }
   ],
   "source": [
    "# Escribe tu nueva función de reporte considerando lo anterior\n",
    "\n",
    "def missionReport(destination, *minutes, **fuelReservoirs):\n",
    "    return f\"\"\"\n",
    "    Misión a {destination}\n",
    "    Tiempo total de viaje: {sum(minutes)} minutos\n",
    "    Total de combustible restante: {sum(fuelReservoirs.values())}\n",
    "    \"\"\"\n",
    "\n",
    "print(missionReport(\"Moon\", 10, 15, 51, main=300000, external=200000))"
   ]
  },
  {
   "cell_type": "code",
   "execution_count": 9,
   "metadata": {},
   "outputs": [
    {
     "name": "stdout",
     "output_type": "stream",
     "text": [
      "\n",
      "    Misión a Moon\n",
      "    Tiempo total de viaje: 74 minutes\n",
      "    Total de combustible restante: 500000\n",
      "    tanque primario --> 300000 galones restantes\n",
      "tanque secundario --> 200000 galones restantes\n",
      "\n"
     ]
    }
   ],
   "source": [
    "# Escribe tu nueva función\n",
    "\n",
    "def missionReport(destination, *minutes, **fuelReservoirs):\n",
    "    main_report = f\"\"\"\n",
    "    Misión a {destination}\n",
    "    Tiempo total de viaje: {sum(minutes)} minutes\n",
    "    Total de combustible restante: {sum(fuelReservoirs.values())}\n",
    "    \"\"\"\n",
    "    for tankName, gallons in fuelReservoirs.items():\n",
    "        main_report += f\"tanque {tankName} --> {gallons} galones restantes\\n\"\n",
    "    return main_report\n",
    "\n",
    "print(missionReport(\"Moon\", 8, 11, 55, primario=300000, secundario=200000))"
   ]
  }
 ],
 "metadata": {
  "interpreter": {
   "hash": "211f1d0ec0f8dd937ab5d4b263edcf5957d4b88f15d1be2f40e698f3c3f2739e"
  },
  "kernelspec": {
   "display_name": "Python 3.10.2 64-bit",
   "language": "python",
   "name": "python3"
  },
  "language_info": {
   "codemirror_mode": {
    "name": "ipython",
    "version": 3
   },
   "file_extension": ".py",
   "mimetype": "text/x-python",
   "name": "python",
   "nbconvert_exporter": "python",
   "pygments_lexer": "ipython3",
   "version": "3.10.2"
  },
  "orig_nbformat": 4
 },
 "nbformat": 4,
 "nbformat_minor": 2
}
